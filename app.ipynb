{
  "nbformat": 4,
  "nbformat_minor": 0,
  "metadata": {
    "colab": {
      "provenance": [],
      "collapsed_sections": []
    },
    "kernelspec": {
      "name": "python3",
      "display_name": "Python 3"
    },
    "language_info": {
      "name": "python"
    }
  },
  "cells": [
    {
      "cell_type": "code",
      "source": [
        "import pandas as pd\n",
        "import requests\n",
        "from bs4 import BeautifulSoup\n",
        "import re"
      ],
      "metadata": {
        "id": "yJSGctwvTK0G"
      },
      "execution_count": 10,
      "outputs": []
    },
    {
      "cell_type": "code",
      "source": [
        "# Here, we'll be scraping data from Savills.com to look for properties to rent near Chelsea, London.\n",
        "\n",
        "r = requests.get(\"https://search.savills.com/list?SearchList=Id_28028+Category_TownVillageCity&Tenure=GRS_T_R&SortOrder=SO_PCDD&Currency=GBP&Period=Week&Bedrooms=-1&Bathrooms=-1&CarSpaces=-1&Receptions=-1&ResidentialSizeUnit=SquareFeet&LandAreaUnit=Acre&SaleableAreaUnit=SquareMeter&Category=GRS_CAT_RES&Shapes=W10\")\n",
        "c = r.content\n",
        "\n",
        "soup = BeautifulSoup(c,\"html.parser\")\n",
        "\n",
        "all = soup.find_all(\"div\",{\"class\": \"sv-details sv--show-price\"})"
      ],
      "metadata": {
        "id": "kZAst896TSz2"
      },
      "execution_count": 11,
      "outputs": []
    },
    {
      "cell_type": "code",
      "execution_count": null,
      "metadata": {
        "id": "MtOlcUn8M8HU"
      },
      "outputs": [],
      "source": [
        "\n",
        "# Now we will run a for loop to list all the properties in a particular page \n",
        "\n",
        "l = []\n",
        "for item in all:\n",
        "    d = {}\n",
        "    def bed():\n",
        "        ret = item.find(\"div\",{\"class\": \"sv-property-attribute sv--bedrooms\"}) # number of bedrooms\n",
        "        if ret != None:\n",
        "            bed = ret.text\n",
        "        else:\n",
        "            bed = \"\"\n",
        "        res = re.sub(\"[A-Za-z]+\", lambda ele: \" \" + ele[0] + \" \", bed)\n",
        "        return res\n",
        "\n",
        "    def bath():\n",
        "        ret = item.find(\"div\",{\"class\": \"sv-property-attribute sv--bathrooms\"}) # number of bathrooms\n",
        "        if ret != None:\n",
        "            bath = ret.text\n",
        "        else:\n",
        "            bath = \"\"\n",
        "        res1 = re.sub(\"[A-Za-z]+\", lambda ele: \" \" + ele[0] + \" \", bath)\n",
        "        #print(res1)\n",
        "        return res1\n",
        "\n",
        "    d[\"bedroom\"]=bed()\n",
        "    d[\"bathroom\"]=bath()\n",
        "\n",
        "    d[\"Street Address\"]=item.find(\"span\",{\"class\": \"sv-details__address1--truncate\"}).text # Street address\n",
        "    d[\"Postal Code\"]=item.find(\"p\",{\"class\": \"sv-details__address2\"}).text # Postal code\n",
        "    d[\"Price\"]=item.find(\"span\",{\"class\": \"sv-property-price__value\"}).text # Price\n",
        "    print(\" \")\n",
        "\n",
        "    l.append(d)\n",
        "    "
      ]
    },
    {
      "cell_type": "code",
      "source": [
        "df = pd.DataFrame(l)\n",
        "df"
      ],
      "metadata": {
        "id": "h7DQ_E_8SGrK"
      },
      "execution_count": null,
      "outputs": []
    },
    {
      "cell_type": "code",
      "source": [
        "df.to_csv(\"Output.csv\")"
      ],
      "metadata": {
        "id": "OFzSVirPTbs_"
      },
      "execution_count": 14,
      "outputs": []
    }
  ]
}